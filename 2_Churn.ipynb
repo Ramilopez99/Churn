{
  "nbformat": 4,
  "nbformat_minor": 0,
  "metadata": {
    "colab": {
      "provenance": [],
      "authorship_tag": "ABX9TyPZkcgFUBH98XnvjC7P8+R4",
      "include_colab_link": true
    },
    "kernelspec": {
      "name": "python3",
      "display_name": "Python 3"
    },
    "language_info": {
      "name": "python"
    }
  },
  "cells": [
    {
      "cell_type": "markdown",
      "metadata": {
        "id": "view-in-github",
        "colab_type": "text"
      },
      "source": [
        "<a href=\"https://colab.research.google.com/github/Ramilopez99/Churn/blob/main/2_Churn.ipynb\" target=\"_parent\"><img src=\"https://colab.research.google.com/assets/colab-badge.svg\" alt=\"Open In Colab\"/></a>"
      ]
    },
    {
      "cell_type": "markdown",
      "source": [
        "# Red Neuronal Churn"
      ],
      "metadata": {
        "id": "sPQa0BKz1j8C"
      }
    },
    {
      "cell_type": "markdown",
      "source": [
        "Una red neuronal churn, también conocida como red neuronal de rotación de clientes, es un tipo de red neuronal artificial que se utiliza para predecir la probabilidad de que un cliente abandone una empresa o deje de utilizar sus productos o servicios."
      ],
      "metadata": {
        "id": "VQplims01s8S"
      }
    },
    {
      "cell_type": "markdown",
      "source": [
        "## 1. Importación de librerías necesarias"
      ],
      "metadata": {
        "id": "JgmqACAy1-YU"
      }
    },
    {
      "cell_type": "code",
      "execution_count": null,
      "metadata": {
        "id": "LMDPy45G1KXr"
      },
      "outputs": [],
      "source": [
        "import pandas as pd\n",
        "import matplotlib.pyplot as plt\n",
        "import numpy as np\n",
        "\n",
        "from sklearn.model_selection import train_test_split\n",
        "from sklearn import preprocessing\n",
        "from sklearn.metrics import mean_squared_error\n",
        "from sklearn.metrics import mean_absolute_error\n",
        "from tensorflow.keras.models import Sequential\n",
        "from tensorflow.keras.layers import Dense"
      ]
    },
    {
      "cell_type": "markdown",
      "source": [
        "## 2. Preproceso de datos"
      ],
      "metadata": {
        "id": "GtcLaN9L2H0c"
      }
    },
    {
      "cell_type": "markdown",
      "source": [
        "### a) Importación de los datos del dataset"
      ],
      "metadata": {
        "id": "A9fDjDFt2f9X"
      }
    },
    {
      "cell_type": "code",
      "source": [
        "from google.colab import drive\n",
        "drive.mount('/content/drive')"
      ],
      "metadata": {
        "colab": {
          "base_uri": "https://localhost:8080/"
        },
        "id": "jbkVPiZs2hSA",
        "outputId": "9292d6fb-5d0f-4b37-a447-652a1c2bd0e6"
      },
      "execution_count": null,
      "outputs": [
        {
          "output_type": "stream",
          "name": "stdout",
          "text": [
            "Drive already mounted at /content/drive; to attempt to forcibly remount, call drive.mount(\"/content/drive\", force_remount=True).\n"
          ]
        }
      ]
    },
    {
      "cell_type": "code",
      "source": [
        "df = pd.read_csv('/content/drive/MyDrive/Programación de Inteligencia Artificial/7. Redes Neuronales/Ejercicios/datasets/WA_Fn-UseC_-Telco-Customer-Churn.csv')"
      ],
      "metadata": {
        "id": "NxUfR-uQ2n8A"
      },
      "execution_count": null,
      "outputs": []
    },
    {
      "cell_type": "markdown",
      "source": [
        "### b) Mostrar los datos del dataframe importado"
      ],
      "metadata": {
        "id": "AQUVkc9D3Iy9"
      }
    },
    {
      "cell_type": "code",
      "source": [
        "print(len(df))"
      ],
      "metadata": {
        "colab": {
          "base_uri": "https://localhost:8080/"
        },
        "id": "hWpyRYtYo1R-",
        "outputId": "10f943fb-f806-4828-fb2a-000c050a5736"
      },
      "execution_count": null,
      "outputs": [
        {
          "output_type": "stream",
          "name": "stdout",
          "text": [
            "7043\n"
          ]
        }
      ]
    },
    {
      "cell_type": "code",
      "source": [
        "df.head().T"
      ],
      "metadata": {
        "colab": {
          "base_uri": "https://localhost:8080/",
          "height": 821
        },
        "id": "8dFqfqtt3VzM",
        "outputId": "599f8c31-c2b8-477b-90e8-8985f31c75f4"
      },
      "execution_count": null,
      "outputs": [
        {
          "output_type": "execute_result",
          "data": {
            "text/plain": [
              "                                 0             1               2  \\\n",
              "customerID              7590-VHVEG    5575-GNVDE      3668-QPYBK   \n",
              "gender                      Female          Male            Male   \n",
              "SeniorCitizen                    0             0               0   \n",
              "Partner                        Yes            No              No   \n",
              "Dependents                      No            No              No   \n",
              "tenure                           1            34               2   \n",
              "PhoneService                    No           Yes             Yes   \n",
              "MultipleLines     No phone service            No              No   \n",
              "InternetService                DSL           DSL             DSL   \n",
              "OnlineSecurity                  No           Yes             Yes   \n",
              "OnlineBackup                   Yes            No             Yes   \n",
              "DeviceProtection                No           Yes              No   \n",
              "TechSupport                     No            No              No   \n",
              "StreamingTV                     No            No              No   \n",
              "StreamingMovies                 No            No              No   \n",
              "Contract            Month-to-month      One year  Month-to-month   \n",
              "PaperlessBilling               Yes            No             Yes   \n",
              "PaymentMethod     Electronic check  Mailed check    Mailed check   \n",
              "MonthlyCharges               29.85         56.95           53.85   \n",
              "TotalCharges                 29.85        1889.5          108.15   \n",
              "Churn                           No            No             Yes   \n",
              "\n",
              "                                          3                 4  \n",
              "customerID                       7795-CFOCW        9237-HQITU  \n",
              "gender                                 Male            Female  \n",
              "SeniorCitizen                             0                 0  \n",
              "Partner                                  No                No  \n",
              "Dependents                               No                No  \n",
              "tenure                                   45                 2  \n",
              "PhoneService                             No               Yes  \n",
              "MultipleLines              No phone service                No  \n",
              "InternetService                         DSL       Fiber optic  \n",
              "OnlineSecurity                          Yes                No  \n",
              "OnlineBackup                             No                No  \n",
              "DeviceProtection                        Yes                No  \n",
              "TechSupport                             Yes                No  \n",
              "StreamingTV                              No                No  \n",
              "StreamingMovies                          No                No  \n",
              "Contract                           One year    Month-to-month  \n",
              "PaperlessBilling                         No               Yes  \n",
              "PaymentMethod     Bank transfer (automatic)  Electronic check  \n",
              "MonthlyCharges                         42.3              70.7  \n",
              "TotalCharges                        1840.75            151.65  \n",
              "Churn                                    No               Yes  "
            ],
            "text/html": [
              "\n",
              "  <div id=\"df-54e06ecd-eaf1-4758-b9cf-9ac9d267be15\">\n",
              "    <div class=\"colab-df-container\">\n",
              "      <div>\n",
              "<style scoped>\n",
              "    .dataframe tbody tr th:only-of-type {\n",
              "        vertical-align: middle;\n",
              "    }\n",
              "\n",
              "    .dataframe tbody tr th {\n",
              "        vertical-align: top;\n",
              "    }\n",
              "\n",
              "    .dataframe thead th {\n",
              "        text-align: right;\n",
              "    }\n",
              "</style>\n",
              "<table border=\"1\" class=\"dataframe\">\n",
              "  <thead>\n",
              "    <tr style=\"text-align: right;\">\n",
              "      <th></th>\n",
              "      <th>0</th>\n",
              "      <th>1</th>\n",
              "      <th>2</th>\n",
              "      <th>3</th>\n",
              "      <th>4</th>\n",
              "    </tr>\n",
              "  </thead>\n",
              "  <tbody>\n",
              "    <tr>\n",
              "      <th>customerID</th>\n",
              "      <td>7590-VHVEG</td>\n",
              "      <td>5575-GNVDE</td>\n",
              "      <td>3668-QPYBK</td>\n",
              "      <td>7795-CFOCW</td>\n",
              "      <td>9237-HQITU</td>\n",
              "    </tr>\n",
              "    <tr>\n",
              "      <th>gender</th>\n",
              "      <td>Female</td>\n",
              "      <td>Male</td>\n",
              "      <td>Male</td>\n",
              "      <td>Male</td>\n",
              "      <td>Female</td>\n",
              "    </tr>\n",
              "    <tr>\n",
              "      <th>SeniorCitizen</th>\n",
              "      <td>0</td>\n",
              "      <td>0</td>\n",
              "      <td>0</td>\n",
              "      <td>0</td>\n",
              "      <td>0</td>\n",
              "    </tr>\n",
              "    <tr>\n",
              "      <th>Partner</th>\n",
              "      <td>Yes</td>\n",
              "      <td>No</td>\n",
              "      <td>No</td>\n",
              "      <td>No</td>\n",
              "      <td>No</td>\n",
              "    </tr>\n",
              "    <tr>\n",
              "      <th>Dependents</th>\n",
              "      <td>No</td>\n",
              "      <td>No</td>\n",
              "      <td>No</td>\n",
              "      <td>No</td>\n",
              "      <td>No</td>\n",
              "    </tr>\n",
              "    <tr>\n",
              "      <th>tenure</th>\n",
              "      <td>1</td>\n",
              "      <td>34</td>\n",
              "      <td>2</td>\n",
              "      <td>45</td>\n",
              "      <td>2</td>\n",
              "    </tr>\n",
              "    <tr>\n",
              "      <th>PhoneService</th>\n",
              "      <td>No</td>\n",
              "      <td>Yes</td>\n",
              "      <td>Yes</td>\n",
              "      <td>No</td>\n",
              "      <td>Yes</td>\n",
              "    </tr>\n",
              "    <tr>\n",
              "      <th>MultipleLines</th>\n",
              "      <td>No phone service</td>\n",
              "      <td>No</td>\n",
              "      <td>No</td>\n",
              "      <td>No phone service</td>\n",
              "      <td>No</td>\n",
              "    </tr>\n",
              "    <tr>\n",
              "      <th>InternetService</th>\n",
              "      <td>DSL</td>\n",
              "      <td>DSL</td>\n",
              "      <td>DSL</td>\n",
              "      <td>DSL</td>\n",
              "      <td>Fiber optic</td>\n",
              "    </tr>\n",
              "    <tr>\n",
              "      <th>OnlineSecurity</th>\n",
              "      <td>No</td>\n",
              "      <td>Yes</td>\n",
              "      <td>Yes</td>\n",
              "      <td>Yes</td>\n",
              "      <td>No</td>\n",
              "    </tr>\n",
              "    <tr>\n",
              "      <th>OnlineBackup</th>\n",
              "      <td>Yes</td>\n",
              "      <td>No</td>\n",
              "      <td>Yes</td>\n",
              "      <td>No</td>\n",
              "      <td>No</td>\n",
              "    </tr>\n",
              "    <tr>\n",
              "      <th>DeviceProtection</th>\n",
              "      <td>No</td>\n",
              "      <td>Yes</td>\n",
              "      <td>No</td>\n",
              "      <td>Yes</td>\n",
              "      <td>No</td>\n",
              "    </tr>\n",
              "    <tr>\n",
              "      <th>TechSupport</th>\n",
              "      <td>No</td>\n",
              "      <td>No</td>\n",
              "      <td>No</td>\n",
              "      <td>Yes</td>\n",
              "      <td>No</td>\n",
              "    </tr>\n",
              "    <tr>\n",
              "      <th>StreamingTV</th>\n",
              "      <td>No</td>\n",
              "      <td>No</td>\n",
              "      <td>No</td>\n",
              "      <td>No</td>\n",
              "      <td>No</td>\n",
              "    </tr>\n",
              "    <tr>\n",
              "      <th>StreamingMovies</th>\n",
              "      <td>No</td>\n",
              "      <td>No</td>\n",
              "      <td>No</td>\n",
              "      <td>No</td>\n",
              "      <td>No</td>\n",
              "    </tr>\n",
              "    <tr>\n",
              "      <th>Contract</th>\n",
              "      <td>Month-to-month</td>\n",
              "      <td>One year</td>\n",
              "      <td>Month-to-month</td>\n",
              "      <td>One year</td>\n",
              "      <td>Month-to-month</td>\n",
              "    </tr>\n",
              "    <tr>\n",
              "      <th>PaperlessBilling</th>\n",
              "      <td>Yes</td>\n",
              "      <td>No</td>\n",
              "      <td>Yes</td>\n",
              "      <td>No</td>\n",
              "      <td>Yes</td>\n",
              "    </tr>\n",
              "    <tr>\n",
              "      <th>PaymentMethod</th>\n",
              "      <td>Electronic check</td>\n",
              "      <td>Mailed check</td>\n",
              "      <td>Mailed check</td>\n",
              "      <td>Bank transfer (automatic)</td>\n",
              "      <td>Electronic check</td>\n",
              "    </tr>\n",
              "    <tr>\n",
              "      <th>MonthlyCharges</th>\n",
              "      <td>29.85</td>\n",
              "      <td>56.95</td>\n",
              "      <td>53.85</td>\n",
              "      <td>42.3</td>\n",
              "      <td>70.7</td>\n",
              "    </tr>\n",
              "    <tr>\n",
              "      <th>TotalCharges</th>\n",
              "      <td>29.85</td>\n",
              "      <td>1889.5</td>\n",
              "      <td>108.15</td>\n",
              "      <td>1840.75</td>\n",
              "      <td>151.65</td>\n",
              "    </tr>\n",
              "    <tr>\n",
              "      <th>Churn</th>\n",
              "      <td>No</td>\n",
              "      <td>No</td>\n",
              "      <td>Yes</td>\n",
              "      <td>No</td>\n",
              "      <td>Yes</td>\n",
              "    </tr>\n",
              "  </tbody>\n",
              "</table>\n",
              "</div>\n",
              "      <button class=\"colab-df-convert\" onclick=\"convertToInteractive('df-54e06ecd-eaf1-4758-b9cf-9ac9d267be15')\"\n",
              "              title=\"Convert this dataframe to an interactive table.\"\n",
              "              style=\"display:none;\">\n",
              "        \n",
              "  <svg xmlns=\"http://www.w3.org/2000/svg\" height=\"24px\"viewBox=\"0 0 24 24\"\n",
              "       width=\"24px\">\n",
              "    <path d=\"M0 0h24v24H0V0z\" fill=\"none\"/>\n",
              "    <path d=\"M18.56 5.44l.94 2.06.94-2.06 2.06-.94-2.06-.94-.94-2.06-.94 2.06-2.06.94zm-11 1L8.5 8.5l.94-2.06 2.06-.94-2.06-.94L8.5 2.5l-.94 2.06-2.06.94zm10 10l.94 2.06.94-2.06 2.06-.94-2.06-.94-.94-2.06-.94 2.06-2.06.94z\"/><path d=\"M17.41 7.96l-1.37-1.37c-.4-.4-.92-.59-1.43-.59-.52 0-1.04.2-1.43.59L10.3 9.45l-7.72 7.72c-.78.78-.78 2.05 0 2.83L4 21.41c.39.39.9.59 1.41.59.51 0 1.02-.2 1.41-.59l7.78-7.78 2.81-2.81c.8-.78.8-2.07 0-2.86zM5.41 20L4 18.59l7.72-7.72 1.47 1.35L5.41 20z\"/>\n",
              "  </svg>\n",
              "      </button>\n",
              "      \n",
              "  <style>\n",
              "    .colab-df-container {\n",
              "      display:flex;\n",
              "      flex-wrap:wrap;\n",
              "      gap: 12px;\n",
              "    }\n",
              "\n",
              "    .colab-df-convert {\n",
              "      background-color: #E8F0FE;\n",
              "      border: none;\n",
              "      border-radius: 50%;\n",
              "      cursor: pointer;\n",
              "      display: none;\n",
              "      fill: #1967D2;\n",
              "      height: 32px;\n",
              "      padding: 0 0 0 0;\n",
              "      width: 32px;\n",
              "    }\n",
              "\n",
              "    .colab-df-convert:hover {\n",
              "      background-color: #E2EBFA;\n",
              "      box-shadow: 0px 1px 2px rgba(60, 64, 67, 0.3), 0px 1px 3px 1px rgba(60, 64, 67, 0.15);\n",
              "      fill: #174EA6;\n",
              "    }\n",
              "\n",
              "    [theme=dark] .colab-df-convert {\n",
              "      background-color: #3B4455;\n",
              "      fill: #D2E3FC;\n",
              "    }\n",
              "\n",
              "    [theme=dark] .colab-df-convert:hover {\n",
              "      background-color: #434B5C;\n",
              "      box-shadow: 0px 1px 3px 1px rgba(0, 0, 0, 0.15);\n",
              "      filter: drop-shadow(0px 1px 2px rgba(0, 0, 0, 0.3));\n",
              "      fill: #FFFFFF;\n",
              "    }\n",
              "  </style>\n",
              "\n",
              "      <script>\n",
              "        const buttonEl =\n",
              "          document.querySelector('#df-54e06ecd-eaf1-4758-b9cf-9ac9d267be15 button.colab-df-convert');\n",
              "        buttonEl.style.display =\n",
              "          google.colab.kernel.accessAllowed ? 'block' : 'none';\n",
              "\n",
              "        async function convertToInteractive(key) {\n",
              "          const element = document.querySelector('#df-54e06ecd-eaf1-4758-b9cf-9ac9d267be15');\n",
              "          const dataTable =\n",
              "            await google.colab.kernel.invokeFunction('convertToInteractive',\n",
              "                                                     [key], {});\n",
              "          if (!dataTable) return;\n",
              "\n",
              "          const docLinkHtml = 'Like what you see? Visit the ' +\n",
              "            '<a target=\"_blank\" href=https://colab.research.google.com/notebooks/data_table.ipynb>data table notebook</a>'\n",
              "            + ' to learn more about interactive tables.';\n",
              "          element.innerHTML = '';\n",
              "          dataTable['output_type'] = 'display_data';\n",
              "          await google.colab.output.renderOutput(dataTable, element);\n",
              "          const docLink = document.createElement('div');\n",
              "          docLink.innerHTML = docLinkHtml;\n",
              "          element.appendChild(docLink);\n",
              "        }\n",
              "      </script>\n",
              "    </div>\n",
              "  </div>\n",
              "  "
            ]
          },
          "metadata": {},
          "execution_count": 22
        }
      ]
    },
    {
      "cell_type": "code",
      "source": [
        "df.dtypes"
      ],
      "metadata": {
        "colab": {
          "base_uri": "https://localhost:8080/"
        },
        "id": "NWSvkF9z3oPC",
        "outputId": "21c87c78-c593-41bc-d221-9f79a150f32a"
      },
      "execution_count": null,
      "outputs": [
        {
          "output_type": "execute_result",
          "data": {
            "text/plain": [
              "customerID           object\n",
              "gender               object\n",
              "SeniorCitizen         int64\n",
              "Partner              object\n",
              "Dependents           object\n",
              "tenure                int64\n",
              "PhoneService         object\n",
              "MultipleLines        object\n",
              "InternetService      object\n",
              "OnlineSecurity       object\n",
              "OnlineBackup         object\n",
              "DeviceProtection     object\n",
              "TechSupport          object\n",
              "StreamingTV          object\n",
              "StreamingMovies      object\n",
              "Contract             object\n",
              "PaperlessBilling     object\n",
              "PaymentMethod        object\n",
              "MonthlyCharges      float64\n",
              "TotalCharges         object\n",
              "Churn                object\n",
              "dtype: object"
            ]
          },
          "metadata": {},
          "execution_count": 23
        }
      ]
    },
    {
      "cell_type": "markdown",
      "source": [
        "### c) Modificación del dataframe"
      ],
      "metadata": {
        "id": "HyUF2isb47-P"
      }
    },
    {
      "cell_type": "markdown",
      "source": [
        "* Como se puede apreciar, la columna TotalCharges contiene valores numericos, pero estan almacenados en una columna de tipo object, por lo que habrá que cambiarlo"
      ],
      "metadata": {
        "id": "MDUIGnC-4lub"
      }
    },
    {
      "cell_type": "code",
      "source": [
        "df.TotalCharges = pd.to_numeric(df.TotalCharges, errors='coerce')\n",
        "df.TotalCharges = df.TotalCharges.fillna(0)"
      ],
      "metadata": {
        "id": "gEywzq_q5Jx2"
      },
      "execution_count": null,
      "outputs": []
    },
    {
      "cell_type": "markdown",
      "source": [
        "* Como estamos en un problema de regresión, los valores deberan ser numericos"
      ],
      "metadata": {
        "id": "nYT67qfACqmT"
      }
    },
    {
      "cell_type": "code",
      "source": [
        "df = df.drop(['customerID'], axis=1)\n",
        "\n",
        "le = preprocessing.LabelEncoder()\n",
        "df['gender'] = le.fit_transform(df.gender.values)\n",
        "df['Partner'] = le.fit_transform(df.Partner.values)\n",
        "df['Dependents'] = le.fit_transform(df.Dependents.values)\n",
        "df['PhoneService'] = le.fit_transform(df.PhoneService.values)\n",
        "df['MultipleLines'] = le.fit_transform(df.MultipleLines.values)\n",
        "df['InternetService'] = le.fit_transform(df.InternetService.values)\n",
        "df['OnlineSecurity'] = le.fit_transform(df.OnlineSecurity.values)\n",
        "df['OnlineBackup'] = le.fit_transform(df.OnlineBackup.values)\n",
        "df['DeviceProtection'] = le.fit_transform(df.DeviceProtection.values)\n",
        "df['TechSupport'] = le.fit_transform(df.TechSupport.values)\n",
        "df['StreamingTV'] = le.fit_transform(df.StreamingTV.values)\n",
        "df['StreamingMovies'] = le.fit_transform(df.StreamingMovies.values)\n",
        "df['Contract'] = le.fit_transform(df.Contract.values)\n",
        "df['PaperlessBilling'] = le.fit_transform(df.PaperlessBilling.values)\n",
        "df['PaymentMethod'] = le.fit_transform(df.PaymentMethod.values)\n",
        "df['Churn'] = le.fit_transform(df.Churn.values)"
      ],
      "metadata": {
        "id": "3AldEa7gApHL"
      },
      "execution_count": null,
      "outputs": []
    },
    {
      "cell_type": "markdown",
      "source": [
        "* Para entender la distribución de los datos en las columnas categóricas y determinar cómo manejarlas en el análisis o modelado de los datos vamos a ver cuantos valores posibles tiene cada columna"
      ],
      "metadata": {
        "id": "ke5Cz9n375SI"
      }
    },
    {
      "cell_type": "code",
      "source": [
        "df.nunique()"
      ],
      "metadata": {
        "colab": {
          "base_uri": "https://localhost:8080/"
        },
        "id": "dS9VlZho8HHA",
        "outputId": "ad626a97-9f12-44e6-cbde-bdf220691a36"
      },
      "execution_count": null,
      "outputs": [
        {
          "output_type": "execute_result",
          "data": {
            "text/plain": [
              "gender                 2\n",
              "SeniorCitizen          2\n",
              "Partner                2\n",
              "Dependents             2\n",
              "tenure                73\n",
              "PhoneService           2\n",
              "MultipleLines          3\n",
              "InternetService        3\n",
              "OnlineSecurity         3\n",
              "OnlineBackup           3\n",
              "DeviceProtection       3\n",
              "TechSupport            3\n",
              "StreamingTV            3\n",
              "StreamingMovies        3\n",
              "Contract               3\n",
              "PaperlessBilling       2\n",
              "PaymentMethod          4\n",
              "MonthlyCharges      1585\n",
              "TotalCharges        6531\n",
              "Churn                  2\n",
              "dtype: int64"
            ]
          },
          "metadata": {},
          "execution_count": 26
        }
      ]
    },
    {
      "cell_type": "markdown",
      "source": [
        "##3. Separar datos de entrada y salida"
      ],
      "metadata": {
        "id": "YEoneyP98UFI"
      }
    },
    {
      "cell_type": "code",
      "source": [
        "# separamos los datos entre datos de entrada y salida\n",
        "input = df.drop('Churn', axis=1)\n",
        "output = df['Churn']\n",
        "\n",
        "# separamos los datos entre entrenamiento y prueba\n",
        "input_train, input_test, output_train, output_test = train_test_split(input, output, train_size=0.75, random_state=1)"
      ],
      "metadata": {
        "id": "iZRNMZYy82G0"
      },
      "execution_count": null,
      "outputs": []
    },
    {
      "cell_type": "markdown",
      "source": [
        "## 4.  Entrenamiento, predicción y evaluación del modelo "
      ],
      "metadata": {
        "id": "4n3HVBWG-8yc"
      }
    },
    {
      "cell_type": "code",
      "source": [
        "num_columnas = input_train.shape[1]\n",
        "print(num_columnas)"
      ],
      "metadata": {
        "colab": {
          "base_uri": "https://localhost:8080/"
        },
        "id": "Z3rFvWgpF1T-",
        "outputId": "67bfd61a-8a33-4576-baac-00c2cb5bdfa7"
      },
      "execution_count": null,
      "outputs": [
        {
          "output_type": "stream",
          "name": "stdout",
          "text": [
            "19\n"
          ]
        }
      ]
    },
    {
      "cell_type": "code",
      "source": [
        "# instanciamos al modelo\n",
        "model = Sequential()\n",
        "model.add(Dense(12, input_dim=num_columnas, activation='relu')) # la capa de entrada tiene las mismas neuronas que el tamaño de los datos, a continuacion va una capa con 12 neuronas\n",
        "model.add(Dense(8, activation='relu')) # capa intermedia con 8 neuronas\n",
        "model.add(Dense(1, activation='sigmoid'))\n",
        "\n",
        "# compilamos el modelo\n",
        "model.compile(loss='binary_crossentropy', \n",
        "              optimizer='adam', \n",
        "              metrics=['accuracy'])\n",
        "\n",
        "# entrenamiento\n",
        "history = model.fit(input_train, output_train, validation_data=(input_test, output_test), epochs=50, batch_size=10)"
      ],
      "metadata": {
        "colab": {
          "base_uri": "https://localhost:8080/"
        },
        "id": "lVs0AAny_D3R",
        "outputId": "cc784ee3-81f7-4e31-b1e0-75e7059f9839"
      },
      "execution_count": null,
      "outputs": [
        {
          "output_type": "stream",
          "name": "stdout",
          "text": [
            "Epoch 1/50\n",
            "529/529 [==============================] - 11s 17ms/step - loss: 2.3485 - accuracy: 0.6308 - val_loss: 0.5400 - val_accuracy: 0.7609\n",
            "Epoch 2/50\n",
            "529/529 [==============================] - 5s 10ms/step - loss: 0.6024 - accuracy: 0.7459 - val_loss: 0.4863 - val_accuracy: 0.7950\n",
            "Epoch 3/50\n",
            "529/529 [==============================] - 1s 3ms/step - loss: 0.5677 - accuracy: 0.7535 - val_loss: 0.4089 - val_accuracy: 0.7995\n",
            "Epoch 4/50\n",
            "529/529 [==============================] - 2s 3ms/step - loss: 0.5605 - accuracy: 0.7664 - val_loss: 0.4188 - val_accuracy: 0.7978\n",
            "Epoch 5/50\n",
            "529/529 [==============================] - 2s 3ms/step - loss: 0.6375 - accuracy: 0.7647 - val_loss: 0.8860 - val_accuracy: 0.5775\n",
            "Epoch 6/50\n",
            "529/529 [==============================] - 2s 3ms/step - loss: 0.5602 - accuracy: 0.7662 - val_loss: 0.4034 - val_accuracy: 0.7956\n",
            "Epoch 7/50\n",
            "529/529 [==============================] - 4s 8ms/step - loss: 0.5894 - accuracy: 0.7601 - val_loss: 0.5902 - val_accuracy: 0.6706\n",
            "Epoch 8/50\n",
            "529/529 [==============================] - 2s 3ms/step - loss: 0.6079 - accuracy: 0.7741 - val_loss: 0.4318 - val_accuracy: 0.7774\n",
            "Epoch 9/50\n",
            "529/529 [==============================] - 2s 4ms/step - loss: 0.5477 - accuracy: 0.7696 - val_loss: 0.6306 - val_accuracy: 0.6576\n",
            "Epoch 10/50\n",
            "529/529 [==============================] - 2s 3ms/step - loss: 0.5911 - accuracy: 0.7637 - val_loss: 0.6054 - val_accuracy: 0.8012\n",
            "Epoch 11/50\n",
            "529/529 [==============================] - 3s 5ms/step - loss: 0.5615 - accuracy: 0.7757 - val_loss: 0.5438 - val_accuracy: 0.6990\n",
            "Epoch 12/50\n",
            "529/529 [==============================] - 4s 8ms/step - loss: 0.5809 - accuracy: 0.7675 - val_loss: 0.7802 - val_accuracy: 0.7990\n",
            "Epoch 13/50\n",
            "529/529 [==============================] - 2s 5ms/step - loss: 0.5590 - accuracy: 0.7719 - val_loss: 0.4555 - val_accuracy: 0.7672\n",
            "Epoch 14/50\n",
            "529/529 [==============================] - 2s 4ms/step - loss: 0.5203 - accuracy: 0.7730 - val_loss: 0.4053 - val_accuracy: 0.8035\n",
            "Epoch 15/50\n",
            "529/529 [==============================] - 2s 4ms/step - loss: 0.5449 - accuracy: 0.7772 - val_loss: 0.4280 - val_accuracy: 0.7995\n",
            "Epoch 16/50\n",
            "529/529 [==============================] - 5s 10ms/step - loss: 0.5093 - accuracy: 0.7802 - val_loss: 0.4966 - val_accuracy: 0.8069\n",
            "Epoch 17/50\n",
            "529/529 [==============================] - 2s 3ms/step - loss: 0.5751 - accuracy: 0.7730 - val_loss: 0.3993 - val_accuracy: 0.7967\n",
            "Epoch 18/50\n",
            "529/529 [==============================] - 2s 4ms/step - loss: 0.5619 - accuracy: 0.7704 - val_loss: 0.4008 - val_accuracy: 0.7933\n",
            "Epoch 19/50\n",
            "529/529 [==============================] - 2s 4ms/step - loss: 0.5329 - accuracy: 0.7741 - val_loss: 0.5306 - val_accuracy: 0.8086\n",
            "Epoch 20/50\n",
            "529/529 [==============================] - 2s 3ms/step - loss: 0.4899 - accuracy: 0.7781 - val_loss: 0.4036 - val_accuracy: 0.8086\n",
            "Epoch 21/50\n",
            "529/529 [==============================] - 3s 6ms/step - loss: 0.5204 - accuracy: 0.7823 - val_loss: 0.4338 - val_accuracy: 0.7740\n",
            "Epoch 22/50\n",
            "529/529 [==============================] - 2s 4ms/step - loss: 0.5034 - accuracy: 0.7770 - val_loss: 0.5420 - val_accuracy: 0.8069\n",
            "Epoch 23/50\n",
            "529/529 [==============================] - 2s 5ms/step - loss: 0.5004 - accuracy: 0.7787 - val_loss: 0.4795 - val_accuracy: 0.7467\n",
            "Epoch 24/50\n",
            "529/529 [==============================] - 3s 5ms/step - loss: 0.4953 - accuracy: 0.7846 - val_loss: 0.3982 - val_accuracy: 0.8012\n",
            "Epoch 25/50\n",
            "529/529 [==============================] - 5s 9ms/step - loss: 0.4995 - accuracy: 0.7804 - val_loss: 0.3950 - val_accuracy: 0.8035\n",
            "Epoch 26/50\n",
            "529/529 [==============================] - 3s 6ms/step - loss: 0.4591 - accuracy: 0.7849 - val_loss: 0.3981 - val_accuracy: 0.8069\n",
            "Epoch 27/50\n",
            "529/529 [==============================] - 3s 6ms/step - loss: 0.4912 - accuracy: 0.7832 - val_loss: 0.4026 - val_accuracy: 0.7950\n",
            "Epoch 28/50\n",
            "529/529 [==============================] - 3s 6ms/step - loss: 0.4795 - accuracy: 0.7844 - val_loss: 0.4385 - val_accuracy: 0.7757\n",
            "Epoch 29/50\n",
            "529/529 [==============================] - 3s 5ms/step - loss: 0.4722 - accuracy: 0.7817 - val_loss: 0.4049 - val_accuracy: 0.8030\n",
            "Epoch 30/50\n",
            "529/529 [==============================] - 2s 4ms/step - loss: 0.4728 - accuracy: 0.7842 - val_loss: 0.3991 - val_accuracy: 0.8035\n",
            "Epoch 31/50\n",
            "529/529 [==============================] - 2s 5ms/step - loss: 0.4551 - accuracy: 0.7880 - val_loss: 0.4361 - val_accuracy: 0.8092\n",
            "Epoch 32/50\n",
            "529/529 [==============================] - 2s 3ms/step - loss: 0.4608 - accuracy: 0.7864 - val_loss: 0.4235 - val_accuracy: 0.7893\n",
            "Epoch 33/50\n",
            "529/529 [==============================] - 2s 4ms/step - loss: 0.4506 - accuracy: 0.7938 - val_loss: 0.5329 - val_accuracy: 0.7013\n",
            "Epoch 34/50\n",
            "529/529 [==============================] - 2s 5ms/step - loss: 0.4495 - accuracy: 0.7916 - val_loss: 0.4201 - val_accuracy: 0.7910\n",
            "Epoch 35/50\n",
            "529/529 [==============================] - 2s 4ms/step - loss: 0.4592 - accuracy: 0.7864 - val_loss: 0.4064 - val_accuracy: 0.8064\n",
            "Epoch 36/50\n",
            "529/529 [==============================] - 2s 3ms/step - loss: 0.4486 - accuracy: 0.7917 - val_loss: 0.4039 - val_accuracy: 0.8064\n",
            "Epoch 37/50\n",
            "529/529 [==============================] - 2s 3ms/step - loss: 0.4502 - accuracy: 0.7934 - val_loss: 0.4203 - val_accuracy: 0.8081\n",
            "Epoch 38/50\n",
            "529/529 [==============================] - 3s 5ms/step - loss: 0.4562 - accuracy: 0.7846 - val_loss: 0.4205 - val_accuracy: 0.8001\n",
            "Epoch 39/50\n",
            "529/529 [==============================] - 3s 6ms/step - loss: 0.4554 - accuracy: 0.7870 - val_loss: 0.4055 - val_accuracy: 0.8069\n",
            "Epoch 40/50\n",
            "529/529 [==============================] - 2s 3ms/step - loss: 0.4489 - accuracy: 0.7899 - val_loss: 0.4060 - val_accuracy: 0.8069\n",
            "Epoch 41/50\n",
            "529/529 [==============================] - 2s 3ms/step - loss: 0.4455 - accuracy: 0.7908 - val_loss: 0.4508 - val_accuracy: 0.7740\n",
            "Epoch 42/50\n",
            "529/529 [==============================] - 2s 4ms/step - loss: 0.4561 - accuracy: 0.7806 - val_loss: 0.4043 - val_accuracy: 0.7984\n",
            "Epoch 43/50\n",
            "529/529 [==============================] - 4s 8ms/step - loss: 0.4461 - accuracy: 0.7883 - val_loss: 0.4012 - val_accuracy: 0.8064\n",
            "Epoch 44/50\n",
            "529/529 [==============================] - 3s 6ms/step - loss: 0.4464 - accuracy: 0.7919 - val_loss: 0.4063 - val_accuracy: 0.7933\n",
            "Epoch 45/50\n",
            "529/529 [==============================] - 3s 6ms/step - loss: 0.4491 - accuracy: 0.7777 - val_loss: 0.4179 - val_accuracy: 0.7978\n",
            "Epoch 46/50\n",
            "529/529 [==============================] - 2s 3ms/step - loss: 0.4532 - accuracy: 0.7789 - val_loss: 0.4119 - val_accuracy: 0.7893\n",
            "Epoch 47/50\n",
            "529/529 [==============================] - 4s 8ms/step - loss: 0.4481 - accuracy: 0.7758 - val_loss: 0.4146 - val_accuracy: 0.7961\n",
            "Epoch 48/50\n",
            "529/529 [==============================] - 2s 3ms/step - loss: 0.4418 - accuracy: 0.7861 - val_loss: 0.4160 - val_accuracy: 0.8075\n",
            "Epoch 49/50\n",
            "529/529 [==============================] - 2s 5ms/step - loss: 0.4465 - accuracy: 0.7834 - val_loss: 0.4080 - val_accuracy: 0.7927\n",
            "Epoch 50/50\n",
            "529/529 [==============================] - 3s 6ms/step - loss: 0.4431 - accuracy: 0.7823 - val_loss: 0.4671 - val_accuracy: 0.8024\n"
          ]
        }
      ]
    },
    {
      "cell_type": "code",
      "source": [
        "# evaluamos el modelo\n",
        "_, accuracy = model.evaluate(input_test, output_test)\n",
        "print('Accuracy: %.2f' % (accuracy*100))"
      ],
      "metadata": {
        "colab": {
          "base_uri": "https://localhost:8080/"
        },
        "id": "pyLPm6dGrMHo",
        "outputId": "a42704ab-93ee-4580-8af4-2cc91ef58477"
      },
      "execution_count": null,
      "outputs": [
        {
          "output_type": "stream",
          "name": "stdout",
          "text": [
            "56/56 [==============================] - 0s 2ms/step - loss: 0.4671 - accuracy: 0.8024\n",
            "Accuracy: 80.24\n"
          ]
        }
      ]
    },
    {
      "cell_type": "code",
      "source": [
        "# Graficar la precisión del modelo durante el entrenamiento\n",
        "plt.plot(history.history['accuracy'])\n",
        "plt.plot(history.history['val_accuracy'])\n",
        "plt.title('Precisión del modelo')\n",
        "plt.ylabel('Precisión')\n",
        "plt.xlabel('Época')\n",
        "plt.legend(['Entrenamiento', 'Prueba'], loc='upper left')\n",
        "plt.show()"
      ],
      "metadata": {
        "colab": {
          "base_uri": "https://localhost:8080/",
          "height": 297
        },
        "id": "qBoUnkEDrPS-",
        "outputId": "12e2d0c7-c48a-40cd-9988-22934803c345"
      },
      "execution_count": null,
      "outputs": [
        {
          "output_type": "display_data",
          "data": {
            "text/plain": [
              "<Figure size 432x288 with 1 Axes>"
            ],
            "image/png": "[encoded data removed]"
          },
          "metadata": {
            "needs_background": "light"
          }
        }
      ]
    },
    {
      "cell_type": "code",
      "source": [
        "# Graficar la pérdida del modelo durante el entrenamiento\n",
        "plt.plot(history.history['loss'])\n",
        "plt.plot(history.history['val_loss'])\n",
        "plt.title('Pérdida del modelo')\n",
        "plt.ylabel('Pérdida')\n",
        "plt.xlabel('Época')\n",
        "plt.legend(['Entrenamiento', 'Prueba'], loc='upper left')\n",
        "plt.show()"
      ],
      "metadata": {
        "colab": {
          "base_uri": "https://localhost:8080/",
          "height": 297
        },
        "id": "jHgsX5aBrSMw",
        "outputId": "536d8e78-c138-4642-8792-a708aae2a55d"
      },
      "execution_count": null,
      "outputs": [
        {
          "output_type": "display_data",
          "data": {
            "text/plain": [
              "<Figure size 432x288 with 1 Axes>"
            ],
            "image/png": "[encoded data removed]"
          },
          "metadata": {
            "needs_background": "light"
          }
        }
      ]
    }
  ]
}